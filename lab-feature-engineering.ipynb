{
 "cells": [
  {
   "cell_type": "code",
   "execution_count": 1,
   "id": "3ee026bd",
   "metadata": {},
   "outputs": [],
   "source": [
    "import pandas as pd\n",
    "import numpy as np\n",
    "import matplotlib.pyplot as plt\n",
    "import seaborn as sns \n",
    "pd.set_option('display.max_columns', None)\n",
    "import statistics"
   ]
  },
  {
   "cell_type": "code",
   "execution_count": 2,
   "id": "010e8273",
   "metadata": {},
   "outputs": [],
   "source": [
    "numerical = pd.read_csv(\"../numerical.csv\")"
   ]
  },
  {
   "cell_type": "markdown",
   "id": "a1705cb1",
   "metadata": {},
   "source": [
    "Check for null values in the numerical columns.\n"
   ]
  },
  {
   "cell_type": "code",
   "execution_count": 3,
   "id": "df9c3356",
   "metadata": {},
   "outputs": [],
   "source": [
    "na_numerical = list(i for i in numerical.columns if numerical[i].isna().sum() > 0)"
   ]
  },
  {
   "cell_type": "code",
   "execution_count": 4,
   "id": "cf5923b0",
   "metadata": {
    "scrolled": true
   },
   "outputs": [
    {
     "data": {
      "text/plain": [
       "['AGE',\n",
       " 'NUMCHLD',\n",
       " 'WEALTH1',\n",
       " 'MBCRAFT',\n",
       " 'MBGARDEN',\n",
       " 'MBBOOKS',\n",
       " 'MBCOLECT',\n",
       " 'MAGFAML',\n",
       " 'MAGFEM',\n",
       " 'MAGMALE',\n",
       " 'PUBGARDN',\n",
       " 'PUBCULIN',\n",
       " 'PUBHLTH',\n",
       " 'PUBDOITY',\n",
       " 'PUBNEWFN',\n",
       " 'PUBPHOTO',\n",
       " 'PUBOPP',\n",
       " 'WEALTH2',\n",
       " 'MSA',\n",
       " 'ADI',\n",
       " 'DMA',\n",
       " 'RDATE_3',\n",
       " 'RDATE_4',\n",
       " 'RDATE_5',\n",
       " 'RDATE_6',\n",
       " 'RDATE_7',\n",
       " 'RDATE_8',\n",
       " 'RDATE_9',\n",
       " 'RDATE_10',\n",
       " 'RDATE_11',\n",
       " 'RDATE_12',\n",
       " 'RDATE_13',\n",
       " 'RDATE_14',\n",
       " 'RDATE_15',\n",
       " 'RDATE_16',\n",
       " 'RDATE_17',\n",
       " 'RDATE_18',\n",
       " 'RDATE_19',\n",
       " 'RDATE_20',\n",
       " 'RDATE_21',\n",
       " 'RDATE_22',\n",
       " 'RDATE_23',\n",
       " 'RDATE_24',\n",
       " 'RAMNT_3',\n",
       " 'RAMNT_4',\n",
       " 'RAMNT_5',\n",
       " 'RAMNT_6',\n",
       " 'RAMNT_7',\n",
       " 'RAMNT_8',\n",
       " 'RAMNT_9',\n",
       " 'RAMNT_10',\n",
       " 'RAMNT_11',\n",
       " 'RAMNT_12',\n",
       " 'RAMNT_13',\n",
       " 'RAMNT_14',\n",
       " 'RAMNT_15',\n",
       " 'RAMNT_16',\n",
       " 'RAMNT_17',\n",
       " 'RAMNT_18',\n",
       " 'RAMNT_19',\n",
       " 'RAMNT_20',\n",
       " 'RAMNT_21',\n",
       " 'RAMNT_22',\n",
       " 'RAMNT_23',\n",
       " 'RAMNT_24',\n",
       " 'NEXTDATE',\n",
       " 'TIMELAG']"
      ]
     },
     "execution_count": 4,
     "metadata": {},
     "output_type": "execute_result"
    }
   ],
   "source": [
    "na_numerical"
   ]
  },
  {
   "cell_type": "markdown",
   "id": "528c5d5b",
   "metadata": {},
   "source": [
    "Use appropriate methods to clean the columns GEOCODE2, WEALTH1, ADI, DMA,and MSA"
   ]
  },
  {
   "cell_type": "code",
   "execution_count": 5,
   "id": "4adbe134",
   "metadata": {},
   "outputs": [],
   "source": [
    "# I don't have GEOCODE2 in this dataset, I dropped it during class"
   ]
  },
  {
   "cell_type": "code",
   "execution_count": 6,
   "id": "4eb50d43",
   "metadata": {},
   "outputs": [],
   "source": [
    "# Checking for WEALTH1"
   ]
  },
  {
   "cell_type": "code",
   "execution_count": 7,
   "id": "aa0a3c5f",
   "metadata": {},
   "outputs": [
    {
     "data": {
      "text/plain": [
       "NaN    41775\n",
       "9.0     7585\n",
       "8.0     6793\n",
       "7.0     6198\n",
       "6.0     5825\n",
       "5.0     5280\n",
       "4.0     4810\n",
       "3.0     4237\n",
       "2.0     4085\n",
       "1.0     3454\n",
       "0.0     2413\n",
       "Name: WEALTH1, dtype: int64"
      ]
     },
     "execution_count": 7,
     "metadata": {},
     "output_type": "execute_result"
    }
   ],
   "source": [
    "numerical[\"WEALTH1\"].value_counts(dropna = False)"
   ]
  },
  {
   "cell_type": "code",
   "execution_count": 8,
   "id": "ac08de44",
   "metadata": {
    "scrolled": true
   },
   "outputs": [
    {
     "data": {
      "image/png": "[encoded data removed]",
      "text/plain": [
       "<Figure size 1152x360 with 4 Axes>"
      ]
     },
     "metadata": {
      "needs_background": "light"
     },
     "output_type": "display_data"
    }
   ],
   "source": [
    "fig, ax = plt.subplots(1,4,figsize=(16,5))\n",
    "sns.histplot(numerical['WEALTH1'], ax = ax[0])\n",
    "sns.histplot(numerical[\"WEALTH1\"].fillna(np.mean(numerical['WEALTH1'])), ax = ax[1])\n",
    "sns.histplot(numerical['WEALTH1'].fillna(statistics.median(numerical['WEALTH1'])),ax = ax[2])\n",
    "sns.histplot(numerical['WEALTH1'].fillna(numerical['WEALTH1'].mode()[0]),ax = ax[3])\n",
    "plt.show()"
   ]
  },
  {
   "cell_type": "code",
   "execution_count": 9,
   "id": "55d40825",
   "metadata": {},
   "outputs": [],
   "source": [
    "numerical[\"WEALTH1\"] = numerical[\"WEALTH1\"].fillna(numerical['WEALTH1'].mode()[0])"
   ]
  },
  {
   "cell_type": "code",
   "execution_count": 10,
   "id": "be048082",
   "metadata": {},
   "outputs": [
    {
     "data": {
      "text/plain": [
       "9.0    49360\n",
       "8.0     6793\n",
       "7.0     6198\n",
       "6.0     5825\n",
       "5.0     5280\n",
       "4.0     4810\n",
       "3.0     4237\n",
       "2.0     4085\n",
       "1.0     3454\n",
       "0.0     2413\n",
       "Name: WEALTH1, dtype: int64"
      ]
     },
     "execution_count": 10,
     "metadata": {},
     "output_type": "execute_result"
    }
   ],
   "source": [
    "numerical[\"WEALTH1\"].value_counts(dropna = False)"
   ]
  },
  {
   "cell_type": "markdown",
   "id": "d8c74638",
   "metadata": {},
   "source": [
    "WEALTH1 is a categorical column, so we fill na with the mode. "
   ]
  },
  {
   "cell_type": "code",
   "execution_count": 11,
   "id": "82e7afaf",
   "metadata": {},
   "outputs": [],
   "source": [
    "#checking for ADI"
   ]
  },
  {
   "cell_type": "code",
   "execution_count": 12,
   "id": "7d23703d",
   "metadata": {},
   "outputs": [
    {
     "data": {
      "text/plain": [
       "13.0     6994\n",
       "51.0     4485\n",
       "65.0     3611\n",
       "57.0     2764\n",
       "105.0    2511\n",
       "         ... \n",
       "651.0       1\n",
       "601.0       1\n",
       "145.0       1\n",
       "161.0       1\n",
       "147.0       1\n",
       "Name: ADI, Length: 205, dtype: int64"
      ]
     },
     "execution_count": 12,
     "metadata": {},
     "output_type": "execute_result"
    }
   ],
   "source": [
    "numerical[\"ADI\"].value_counts(dropna = False)"
   ]
  },
  {
   "cell_type": "code",
   "execution_count": 13,
   "id": "44696147",
   "metadata": {},
   "outputs": [
    {
     "data": {
      "text/plain": [
       "123"
      ]
     },
     "execution_count": 13,
     "metadata": {},
     "output_type": "execute_result"
    }
   ],
   "source": [
    "numerical[\"ADI\"].isna().sum()"
   ]
  },
  {
   "cell_type": "code",
   "execution_count": 14,
   "id": "39b46bb0",
   "metadata": {
    "scrolled": false
   },
   "outputs": [
    {
     "data": {
      "image/png": "[encoded data removed]",
      "text/plain": [
       "<Figure size 1152x360 with 4 Axes>"
      ]
     },
     "metadata": {
      "needs_background": "light"
     },
     "output_type": "display_data"
    }
   ],
   "source": [
    "fig, ax = plt.subplots(1,4,figsize=(16,5))\n",
    "sns.histplot(numerical['ADI'], ax = ax[0])\n",
    "sns.histplot(numerical['ADI'].fillna(np.mean(numerical['ADI'])), ax = ax[1])\n",
    "sns.histplot(numerical['ADI'].fillna(statistics.median(numerical['ADI'])),ax = ax[2])\n",
    "sns.histplot(numerical['ADI'].fillna(numerical['ADI'].mode()[0]),ax = ax[3])\n",
    "plt.show()"
   ]
  },
  {
   "cell_type": "code",
   "execution_count": 15,
   "id": "aa9ee28c",
   "metadata": {},
   "outputs": [],
   "source": [
    "numerical[\"ADI\"] = numerical[\"ADI\"].fillna(numerical['ADI'].mode()[0])"
   ]
  },
  {
   "cell_type": "code",
   "execution_count": 16,
   "id": "4bb5e48e",
   "metadata": {},
   "outputs": [
    {
     "data": {
      "text/plain": [
       "0"
      ]
     },
     "execution_count": 16,
     "metadata": {},
     "output_type": "execute_result"
    }
   ],
   "source": [
    "numerical[\"ADI\"].isna().sum()"
   ]
  },
  {
   "cell_type": "markdown",
   "id": "63e82542",
   "metadata": {},
   "source": [
    "In this we get just a few nan values so there is not much change in the plots filling those nan values with one statisitic or the other, but in this case, since the values are codes, the mode would be the best to use"
   ]
  },
  {
   "cell_type": "code",
   "execution_count": 17,
   "id": "0d4b31f7",
   "metadata": {},
   "outputs": [],
   "source": [
    "# Checking for DMA"
   ]
  },
  {
   "cell_type": "code",
   "execution_count": 18,
   "id": "a1f84c44",
   "metadata": {},
   "outputs": [
    {
     "data": {
      "text/plain": [
       "803.0    6994\n",
       "602.0    4495\n",
       "807.0    3611\n",
       "505.0    2767\n",
       "819.0    2482\n",
       "         ... \n",
       "502.0       1\n",
       "554.0       1\n",
       "584.0       1\n",
       "569.0       1\n",
       "516.0       1\n",
       "Name: DMA, Length: 206, dtype: int64"
      ]
     },
     "execution_count": 18,
     "metadata": {},
     "output_type": "execute_result"
    }
   ],
   "source": [
    "numerical[\"DMA\"].value_counts()"
   ]
  },
  {
   "cell_type": "code",
   "execution_count": 19,
   "id": "97e4cdcf",
   "metadata": {},
   "outputs": [
    {
     "data": {
      "text/plain": [
       "123"
      ]
     },
     "execution_count": 19,
     "metadata": {},
     "output_type": "execute_result"
    }
   ],
   "source": [
    "numerical[\"DMA\"].isna().sum()"
   ]
  },
  {
   "cell_type": "code",
   "execution_count": 20,
   "id": "15bdbf43",
   "metadata": {},
   "outputs": [],
   "source": [
    "numerical[\"DMA\"] = numerical[\"DMA\"].fillna(numerical['DMA'].mode()[0])"
   ]
  },
  {
   "cell_type": "code",
   "execution_count": 21,
   "id": "4e1e7b9b",
   "metadata": {},
   "outputs": [
    {
     "data": {
      "text/plain": [
       "0"
      ]
     },
     "execution_count": 21,
     "metadata": {},
     "output_type": "execute_result"
    }
   ],
   "source": [
    "numerical[\"DMA\"].isna().sum()"
   ]
  },
  {
   "cell_type": "code",
   "execution_count": 22,
   "id": "8304fdbf",
   "metadata": {},
   "outputs": [],
   "source": [
    "# Checking for MSA"
   ]
  },
  {
   "cell_type": "code",
   "execution_count": 23,
   "id": "6ee7942f",
   "metadata": {},
   "outputs": [
    {
     "data": {
      "text/plain": [
       "0.0       20661\n",
       "4480.0     4430\n",
       "1600.0     3937\n",
       "2160.0     2517\n",
       "520.0      1632\n",
       "          ...  \n",
       "9140.0        1\n",
       "3200.0        1\n",
       "9280.0        1\n",
       "1320.0        1\n",
       "8480.0        1\n",
       "Name: MSA, Length: 298, dtype: int64"
      ]
     },
     "execution_count": 23,
     "metadata": {},
     "output_type": "execute_result"
    }
   ],
   "source": [
    "numerical[\"MSA\"].value_counts()"
   ]
  },
  {
   "cell_type": "code",
   "execution_count": 24,
   "id": "f03784bb",
   "metadata": {},
   "outputs": [
    {
     "data": {
      "text/plain": [
       "123"
      ]
     },
     "execution_count": 24,
     "metadata": {},
     "output_type": "execute_result"
    }
   ],
   "source": [
    "numerical[\"MSA\"].isna().sum()"
   ]
  },
  {
   "cell_type": "code",
   "execution_count": 25,
   "id": "1beb5fa6",
   "metadata": {},
   "outputs": [],
   "source": [
    "numerical[\"MSA\"] = numerical[\"MSA\"].fillna(numerical['ADI'].mode()[0])"
   ]
  },
  {
   "cell_type": "code",
   "execution_count": 26,
   "id": "0dc14dc7",
   "metadata": {},
   "outputs": [
    {
     "data": {
      "text/plain": [
       "0"
      ]
     },
     "execution_count": 26,
     "metadata": {},
     "output_type": "execute_result"
    }
   ],
   "source": [
    "numerical[\"MSA\"].isna().sum()"
   ]
  },
  {
   "cell_type": "markdown",
   "id": "52727961",
   "metadata": {},
   "source": [
    "\n",
    "For DMA, MSA is the same because they showed 123 nan values as ADI. Those values correspond to codes, so it would be no use on calculating the mean. \n"
   ]
  },
  {
   "cell_type": "markdown",
   "id": "ba1653c0",
   "metadata": {},
   "source": [
    "Use appropriate EDA technique where ever necessary."
   ]
  },
  {
   "cell_type": "code",
   "execution_count": 27,
   "id": "98e8d0b0",
   "metadata": {},
   "outputs": [],
   "source": [
    "no_wanted = (\"WEALTH1\", \"ADI\", \"DMA\", \"MSA\")\n",
    "na_numerical = [i for i in na_numerical if i not in no_wanted]"
   ]
  },
  {
   "cell_type": "code",
   "execution_count": 28,
   "id": "39413484",
   "metadata": {},
   "outputs": [
    {
     "data": {
      "text/plain": [
       "63"
      ]
     },
     "execution_count": 28,
     "metadata": {},
     "output_type": "execute_result"
    }
   ],
   "source": [
    "len(na_numerical)"
   ]
  },
  {
   "cell_type": "code",
   "execution_count": 29,
   "id": "72a27c29",
   "metadata": {},
   "outputs": [],
   "source": [
    "drop_columns = []\n",
    "def na_to_remove(df, threshold):    \n",
    "    \n",
    "    df_2 = df.copy()\n",
    "    cols = df_2.columns\n",
    "    rows = df_2.shape[0]\n",
    "    \n",
    "    for col in cols:\n",
    "        na = df_2[col].isna().sum()\n",
    "        if na > (rows * threshold/100):\n",
    "            drop_columns.append(col)\n",
    "        else: \n",
    "            pass\n",
    "    \n",
    "    return drop_columns"
   ]
  },
  {
   "cell_type": "code",
   "execution_count": 30,
   "id": "d1b98fb0",
   "metadata": {},
   "outputs": [],
   "source": [
    "num_na_75 = na_to_remove(numerical, 75)"
   ]
  },
  {
   "cell_type": "code",
   "execution_count": 31,
   "id": "0676829b",
   "metadata": {},
   "outputs": [],
   "source": [
    "numerical = numerical.drop([i for i in num_na_75], axis = 1)"
   ]
  },
  {
   "cell_type": "code",
   "execution_count": 32,
   "id": "5aa5b6e8",
   "metadata": {},
   "outputs": [],
   "source": [
    "no_wanted = num_na_75\n",
    "na_numerical = [i for i in na_numerical if i not in no_wanted] "
   ]
  },
  {
   "cell_type": "code",
   "execution_count": 33,
   "id": "a3bde5ab",
   "metadata": {},
   "outputs": [
    {
     "data": {
      "text/plain": [
       "22"
      ]
     },
     "execution_count": 33,
     "metadata": {},
     "output_type": "execute_result"
    }
   ],
   "source": [
    "len(na_numerical)"
   ]
  },
  {
   "cell_type": "code",
   "execution_count": 34,
   "id": "11ddad93",
   "metadata": {},
   "outputs": [
    {
     "data": {
      "text/plain": [
       "['AGE',\n",
       " 'MBCRAFT',\n",
       " 'MBGARDEN',\n",
       " 'MBBOOKS',\n",
       " 'MBCOLECT',\n",
       " 'MAGFAML',\n",
       " 'MAGFEM',\n",
       " 'MAGMALE',\n",
       " 'PUBGARDN',\n",
       " 'PUBCULIN',\n",
       " 'PUBHLTH',\n",
       " 'PUBDOITY',\n",
       " 'PUBNEWFN',\n",
       " 'PUBPHOTO',\n",
       " 'PUBOPP',\n",
       " 'WEALTH2',\n",
       " 'RDATE_12',\n",
       " 'RDATE_16',\n",
       " 'RAMNT_12',\n",
       " 'RAMNT_16',\n",
       " 'NEXTDATE',\n",
       " 'TIMELAG']"
      ]
     },
     "execution_count": 34,
     "metadata": {},
     "output_type": "execute_result"
    }
   ],
   "source": [
    "na_numerical"
   ]
  },
  {
   "cell_type": "code",
   "execution_count": 35,
   "id": "c307db0b",
   "metadata": {
    "scrolled": true
   },
   "outputs": [],
   "source": [
    "not_wanted = [\"RDATE_12\", \"RDATE_16\",'RAMNT_12','RAMNT_16','NEXTDATE','TIMELAG']\n",
    "na_numerical = [i for i in na_numerical if i not in not_wanted] "
   ]
  },
  {
   "cell_type": "code",
   "execution_count": 36,
   "id": "c72424d0",
   "metadata": {},
   "outputs": [
    {
     "data": {
      "text/plain": [
       "['AGE',\n",
       " 'MBCRAFT',\n",
       " 'MBGARDEN',\n",
       " 'MBBOOKS',\n",
       " 'MBCOLECT',\n",
       " 'MAGFAML',\n",
       " 'MAGFEM',\n",
       " 'MAGMALE',\n",
       " 'PUBGARDN',\n",
       " 'PUBCULIN',\n",
       " 'PUBHLTH',\n",
       " 'PUBDOITY',\n",
       " 'PUBNEWFN',\n",
       " 'PUBPHOTO',\n",
       " 'PUBOPP',\n",
       " 'WEALTH2']"
      ]
     },
     "execution_count": 36,
     "metadata": {},
     "output_type": "execute_result"
    }
   ],
   "source": [
    "na_numerical"
   ]
  },
  {
   "cell_type": "code",
   "execution_count": 37,
   "id": "08d6c1b3",
   "metadata": {
    "scrolled": false
   },
   "outputs": [
    {
     "data": {
      "text/plain": [
       "NaN    42478\n",
       "9.0     6300\n",
       "8.0     5799\n",
       "7.0     5505\n",
       "6.0     5345\n",
       "5.0     5178\n",
       "4.0     4919\n",
       "3.0     4884\n",
       "2.0     4826\n",
       "1.0     4050\n",
       "0.0     3171\n",
       "Name: WEALTH2, dtype: int64"
      ]
     },
     "execution_count": 37,
     "metadata": {},
     "output_type": "execute_result"
    }
   ],
   "source": [
    "numerical[\"WEALTH2\"].value_counts(dropna = False)"
   ]
  },
  {
   "cell_type": "code",
   "execution_count": 38,
   "id": "f31df7b0",
   "metadata": {
    "scrolled": true
   },
   "outputs": [
    {
     "data": {
      "image/png": "[encoded data removed]",
      "text/plain": [
       "<Figure size 1152x360 with 4 Axes>"
      ]
     },
     "metadata": {
      "needs_background": "light"
     },
     "output_type": "display_data"
    }
   ],
   "source": [
    "fig, ax = plt.subplots(1,4,figsize=(16,5))\n",
    "sns.histplot(numerical[\"WEALTH2\"], ax = ax[0])\n",
    "sns.histplot(numerical[\"WEALTH2\"].fillna(np.mean(numerical[\"WEALTH2\"])), ax = ax[1])\n",
    "sns.histplot(numerical[\"WEALTH2\"].fillna(statistics.median(numerical[\"WEALTH2\"])),ax = ax[2])\n",
    "sns.histplot(numerical[\"WEALTH2\"].fillna(numerical[\"WEALTH2\"].mode()[0]),ax = ax[3])\n",
    "plt.show()"
   ]
  },
  {
   "cell_type": "code",
   "execution_count": 39,
   "id": "74828ad3",
   "metadata": {},
   "outputs": [],
   "source": [
    "numerical[\"WEALTH2\"] = numerical[\"WEALTH2\"].fillna(numerical[\"WEALTH2\"].mode()[0])"
   ]
  },
  {
   "cell_type": "code",
   "execution_count": 40,
   "id": "94c42149",
   "metadata": {},
   "outputs": [
    {
     "data": {
      "text/plain": [
       "9.0    48778\n",
       "8.0     5799\n",
       "7.0     5505\n",
       "6.0     5345\n",
       "5.0     5178\n",
       "4.0     4919\n",
       "3.0     4884\n",
       "2.0     4826\n",
       "1.0     4050\n",
       "0.0     3171\n",
       "Name: WEALTH2, dtype: int64"
      ]
     },
     "execution_count": 40,
     "metadata": {},
     "output_type": "execute_result"
    }
   ],
   "source": [
    "numerical[\"WEALTH2\"].value_counts(dropna = False)"
   ]
  },
  {
   "cell_type": "markdown",
   "id": "a9a39499",
   "metadata": {},
   "source": [
    "In this case, we have a categorical column, applying the mode looks like the best option"
   ]
  },
  {
   "cell_type": "code",
   "execution_count": 41,
   "id": "8e3b6ae0",
   "metadata": {},
   "outputs": [],
   "source": [
    "not_wanted = [\"WEALTH2\"]\n",
    "na_numerical = [i for i in na_numerical if i not in not_wanted]"
   ]
  },
  {
   "cell_type": "code",
   "execution_count": 42,
   "id": "4c2d7ed9",
   "metadata": {},
   "outputs": [
    {
     "data": {
      "text/plain": [
       "['AGE',\n",
       " 'MBCRAFT',\n",
       " 'MBGARDEN',\n",
       " 'MBBOOKS',\n",
       " 'MBCOLECT',\n",
       " 'MAGFAML',\n",
       " 'MAGFEM',\n",
       " 'MAGMALE',\n",
       " 'PUBGARDN',\n",
       " 'PUBCULIN',\n",
       " 'PUBHLTH',\n",
       " 'PUBDOITY',\n",
       " 'PUBNEWFN',\n",
       " 'PUBPHOTO',\n",
       " 'PUBOPP']"
      ]
     },
     "execution_count": 42,
     "metadata": {},
     "output_type": "execute_result"
    }
   ],
   "source": [
    "na_numerical"
   ]
  },
  {
   "cell_type": "code",
   "execution_count": 43,
   "id": "c5d854d1",
   "metadata": {
    "scrolled": true
   },
   "outputs": [
    {
     "data": {
      "text/plain": [
       "NaN     21907\n",
       "50.0     1904\n",
       "76.0     1847\n",
       "72.0     1788\n",
       "68.0     1784\n",
       "        ...  \n",
       "9.0         1\n",
       "6.0         1\n",
       "10.0        1\n",
       "8.0         1\n",
       "15.0        1\n",
       "Name: AGE, Length: 97, dtype: int64"
      ]
     },
     "execution_count": 43,
     "metadata": {},
     "output_type": "execute_result"
    }
   ],
   "source": [
    "numerical[\"AGE\"].value_counts(dropna = False)"
   ]
  },
  {
   "cell_type": "code",
   "execution_count": 44,
   "id": "17356794",
   "metadata": {
    "scrolled": true
   },
   "outputs": [
    {
     "data": {
      "image/png": "[encoded data removed]",
      "text/plain": [
       "<Figure size 1152x360 with 4 Axes>"
      ]
     },
     "metadata": {
      "needs_background": "light"
     },
     "output_type": "display_data"
    }
   ],
   "source": [
    "fig, ax = plt.subplots(1,4,figsize=(16,5))\n",
    "sns.histplot(numerical[\"AGE\"], ax = ax[0])\n",
    "sns.histplot(numerical[\"AGE\"].fillna(np.mean(numerical[\"AGE\"])), ax = ax[1])\n",
    "sns.histplot(numerical[\"AGE\"].fillna(np.median(numerical[\"AGE\"])),ax = ax[2])\n",
    "sns.histplot(numerical[\"AGE\"].fillna(numerical[\"AGE\"].mode()[0]),ax = ax[3])\n",
    "plt.show()"
   ]
  },
  {
   "cell_type": "code",
   "execution_count": 45,
   "id": "4684a828",
   "metadata": {},
   "outputs": [],
   "source": [
    "numerical[\"AGE\"] = numerical[\"AGE\"].fillna(np.median(numerical[\"AGE\"]))"
   ]
  },
  {
   "cell_type": "code",
   "execution_count": 46,
   "id": "11f2f3b5",
   "metadata": {},
   "outputs": [
    {
     "name": "stdout",
     "output_type": "stream",
     "text": [
      "AGE value counts:\n",
      " NaN     21907\n",
      "50.0     1904\n",
      "76.0     1847\n",
      "72.0     1788\n",
      "68.0     1784\n",
      "        ...  \n",
      "9.0         1\n",
      "6.0         1\n",
      "10.0        1\n",
      "8.0         1\n",
      "15.0        1\n",
      "Name: AGE, Length: 97, dtype: int64\n",
      "\n",
      "\n",
      "MBCRAFT value counts:\n",
      " NaN    49897\n",
      "0.0    37707\n",
      "1.0     3521\n",
      "2.0     1079\n",
      "3.0      215\n",
      "4.0       33\n",
      "5.0        2\n",
      "6.0        1\n",
      "Name: MBCRAFT, dtype: int64\n",
      "\n",
      "\n",
      "MBGARDEN value counts:\n",
      " NaN    49897\n",
      "0.0    40286\n",
      "1.0     2054\n",
      "2.0      193\n",
      "3.0       22\n",
      "4.0        3\n",
      "Name: MBGARDEN, dtype: int64\n",
      "\n",
      "\n",
      "MBBOOKS value counts:\n",
      " NaN    49897\n",
      "0.0    21299\n",
      "1.0    10371\n",
      "2.0     4664\n",
      "3.0     2465\n",
      "4.0     1469\n",
      "5.0      901\n",
      "6.0      538\n",
      "9.0      325\n",
      "7.0      325\n",
      "8.0      201\n",
      "Name: MBBOOKS, dtype: int64\n",
      "\n",
      "\n",
      "MBCOLECT value counts:\n",
      " NaN    49957\n",
      "0.0    40267\n",
      "1.0     1837\n",
      "2.0      324\n",
      "3.0       54\n",
      "4.0       11\n",
      "5.0        4\n",
      "6.0        1\n",
      "Name: MBCOLECT, dtype: int64\n",
      "\n",
      "\n",
      "MAGFAML value counts:\n",
      " NaN    49897\n",
      "0.0    29790\n",
      "1.0     8468\n",
      "2.0     2859\n",
      "3.0     1007\n",
      "4.0      332\n",
      "5.0       77\n",
      "6.0       17\n",
      "7.0        7\n",
      "9.0        1\n",
      "Name: MAGFAML, dtype: int64\n",
      "\n",
      "\n",
      "MAGFEM value counts:\n",
      " NaN    49897\n",
      "0.0    37845\n",
      "1.0     4117\n",
      "2.0      537\n",
      "3.0       52\n",
      "4.0        6\n",
      "5.0        1\n",
      "Name: MAGFEM, dtype: int64\n",
      "\n",
      "\n",
      "MAGMALE value counts:\n",
      " NaN    49897\n",
      "0.0    40036\n",
      "1.0     2287\n",
      "2.0      199\n",
      "3.0       32\n",
      "4.0        4\n",
      "Name: MAGMALE, dtype: int64\n",
      "\n",
      "\n",
      "PUBGARDN value counts:\n",
      " NaN    49897\n",
      "0.0    38388\n",
      "1.0     2835\n",
      "2.0      925\n",
      "3.0      303\n",
      "4.0       94\n",
      "5.0       13\n",
      "Name: PUBGARDN, dtype: int64\n",
      "\n",
      "\n",
      "PUBCULIN value counts:\n",
      " NaN    49897\n",
      "0.0    37428\n",
      "1.0     4251\n",
      "2.0      733\n",
      "3.0      123\n",
      "4.0       21\n",
      "6.0        1\n",
      "5.0        1\n",
      "Name: PUBCULIN, dtype: int64\n",
      "\n",
      "\n",
      "PUBHLTH value counts:\n",
      " NaN    49897\n",
      "0.0    27309\n",
      "1.0     7754\n",
      "2.0     3451\n",
      "3.0     1981\n",
      "4.0     1107\n",
      "5.0      575\n",
      "6.0      231\n",
      "7.0       98\n",
      "8.0       35\n",
      "9.0       17\n",
      "Name: PUBHLTH, dtype: int64\n",
      "\n",
      "\n",
      "PUBDOITY value counts:\n",
      " NaN    49897\n",
      "0.0    36485\n",
      "1.0     3882\n",
      "2.0     1255\n",
      "3.0      430\n",
      "4.0      252\n",
      "5.0      141\n",
      "6.0       82\n",
      "7.0       18\n",
      "8.0       13\n",
      "Name: PUBDOITY, dtype: int64\n",
      "\n",
      "\n",
      "PUBNEWFN value counts:\n",
      " NaN    49897\n",
      "0.0    33885\n",
      "1.0     4844\n",
      "2.0     2145\n",
      "3.0      832\n",
      "4.0      394\n",
      "5.0      203\n",
      "6.0      120\n",
      "7.0       56\n",
      "9.0       47\n",
      "8.0       32\n",
      "Name: PUBNEWFN, dtype: int64\n",
      "\n",
      "\n",
      "PUBPHOTO value counts:\n",
      " NaN    49897\n",
      "0.0    42313\n",
      "1.0      240\n",
      "2.0        5\n",
      "Name: PUBPHOTO, dtype: int64\n",
      "\n",
      "\n",
      "PUBOPP value counts:\n",
      " NaN    49897\n",
      "0.0    37237\n",
      "1.0     3401\n",
      "2.0      879\n",
      "3.0      454\n",
      "4.0      183\n",
      "9.0      145\n",
      "5.0      109\n",
      "6.0       75\n",
      "7.0       43\n",
      "8.0       32\n",
      "Name: PUBOPP, dtype: int64\n",
      "\n",
      "\n"
     ]
    }
   ],
   "source": [
    "for i in na_numerical:\n",
    "    print(i,\"value counts:\\n\",numerical[i].value_counts(dropna = False))\n",
    "    print(\"\\n\")"
   ]
  },
  {
   "cell_type": "markdown",
   "id": "e84399eb",
   "metadata": {},
   "source": [
    "Here we can see that the rest of columns, except for AGE, are categorical, so the way to fill na values is using mode"
   ]
  },
  {
   "cell_type": "code",
   "execution_count": 47,
   "id": "bbd4da98",
   "metadata": {},
   "outputs": [],
   "source": [
    "for i in na_numerical:\n",
    "    numerical[i] = numerical[i].fillna(numerical[i].mode()[0])"
   ]
  },
  {
   "cell_type": "code",
   "execution_count": null,
   "id": "2829799d",
   "metadata": {},
   "outputs": [],
   "source": []
  }
 ],
 "metadata": {
  "kernelspec": {
   "display_name": "Python 3 (ipykernel)",
   "language": "python",
   "name": "python3"
  },
  "language_info": {
   "codemirror_mode": {
    "name": "ipython",
    "version": 3
   },
   "file_extension": ".py",
   "mimetype": "text/x-python",
   "name": "python",
   "nbconvert_exporter": "python",
   "pygments_lexer": "ipython3",
   "version": "3.9.12"
  }
 },
 "nbformat": 4,
 "nbformat_minor": 5
}
